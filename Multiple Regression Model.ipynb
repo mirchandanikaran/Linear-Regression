{
 "cells": [
  {
   "cell_type": "markdown",
   "id": "31acff51",
   "metadata": {},
   "source": [
    "# Multiple Regression Model"
   ]
  },
  {
   "cell_type": "code",
   "execution_count": 1,
   "id": "f3d8c428",
   "metadata": {},
   "outputs": [],
   "source": [
    "import pandas as pd\n",
    "import numpy as np\n",
    "import matplotlib.pyplot as plt"
   ]
  },
  {
   "cell_type": "code",
   "execution_count": 3,
   "id": "39c2ca29",
   "metadata": {},
   "outputs": [
    {
     "data": {
      "text/plain": [
       "(400, 7)"
      ]
     },
     "execution_count": 3,
     "metadata": {},
     "output_type": "execute_result"
    }
   ],
   "source": [
    "data = pd.read_csv(\"/home/skyline/lifestyle.csv\")\n",
    "data.shape"
   ]
  },
  {
   "cell_type": "code",
   "execution_count": 9,
   "id": "b04ac8a2",
   "metadata": {},
   "outputs": [
    {
     "data": {
      "text/html": [
       "<div>\n",
       "<style scoped>\n",
       "    .dataframe tbody tr th:only-of-type {\n",
       "        vertical-align: middle;\n",
       "    }\n",
       "\n",
       "    .dataframe tbody tr th {\n",
       "        vertical-align: top;\n",
       "    }\n",
       "\n",
       "    .dataframe thead th {\n",
       "        text-align: right;\n",
       "    }\n",
       "</style>\n",
       "<table border=\"1\" class=\"dataframe\">\n",
       "  <thead>\n",
       "    <tr style=\"text-align: right;\">\n",
       "      <th></th>\n",
       "      <th>Purchase</th>\n",
       "      <th>Finance</th>\n",
       "      <th>Fationable</th>\n",
       "      <th>Optimistic</th>\n",
       "      <th>Leadership</th>\n",
       "      <th>Explorer</th>\n",
       "      <th>Family</th>\n",
       "    </tr>\n",
       "  </thead>\n",
       "  <tbody>\n",
       "    <tr>\n",
       "      <th>count</th>\n",
       "      <td>400.000000</td>\n",
       "      <td>400.000000</td>\n",
       "      <td>400.000000</td>\n",
       "      <td>400.000000</td>\n",
       "      <td>400.000000</td>\n",
       "      <td>400.000000</td>\n",
       "      <td>400.000000</td>\n",
       "    </tr>\n",
       "    <tr>\n",
       "      <th>mean</th>\n",
       "      <td>5.022500</td>\n",
       "      <td>2.000100</td>\n",
       "      <td>2.100950</td>\n",
       "      <td>2.108400</td>\n",
       "      <td>3.079475</td>\n",
       "      <td>3.108675</td>\n",
       "      <td>2.022475</td>\n",
       "    </tr>\n",
       "    <tr>\n",
       "      <th>std</th>\n",
       "      <td>2.587224</td>\n",
       "      <td>0.999751</td>\n",
       "      <td>1.095743</td>\n",
       "      <td>1.133804</td>\n",
       "      <td>1.050774</td>\n",
       "      <td>1.144429</td>\n",
       "      <td>0.993642</td>\n",
       "    </tr>\n",
       "    <tr>\n",
       "      <th>min</th>\n",
       "      <td>1.000000</td>\n",
       "      <td>-0.680000</td>\n",
       "      <td>-0.710000</td>\n",
       "      <td>-0.480000</td>\n",
       "      <td>0.300000</td>\n",
       "      <td>0.490000</td>\n",
       "      <td>-0.930000</td>\n",
       "    </tr>\n",
       "    <tr>\n",
       "      <th>25%</th>\n",
       "      <td>3.000000</td>\n",
       "      <td>1.317500</td>\n",
       "      <td>1.350000</td>\n",
       "      <td>1.305000</td>\n",
       "      <td>2.430000</td>\n",
       "      <td>2.322500</td>\n",
       "      <td>1.300000</td>\n",
       "    </tr>\n",
       "    <tr>\n",
       "      <th>50%</th>\n",
       "      <td>5.000000</td>\n",
       "      <td>2.010000</td>\n",
       "      <td>2.050000</td>\n",
       "      <td>2.100000</td>\n",
       "      <td>3.090000</td>\n",
       "      <td>3.070000</td>\n",
       "      <td>2.015000</td>\n",
       "    </tr>\n",
       "    <tr>\n",
       "      <th>75%</th>\n",
       "      <td>7.000000</td>\n",
       "      <td>2.690000</td>\n",
       "      <td>2.770000</td>\n",
       "      <td>2.740000</td>\n",
       "      <td>3.712500</td>\n",
       "      <td>3.812500</td>\n",
       "      <td>2.740000</td>\n",
       "    </tr>\n",
       "    <tr>\n",
       "      <th>max</th>\n",
       "      <td>9.000000</td>\n",
       "      <td>4.770000</td>\n",
       "      <td>5.430000</td>\n",
       "      <td>6.500000</td>\n",
       "      <td>6.500000</td>\n",
       "      <td>6.700000</td>\n",
       "      <td>5.030000</td>\n",
       "    </tr>\n",
       "  </tbody>\n",
       "</table>\n",
       "</div>"
      ],
      "text/plain": [
       "         Purchase     Finance  Fationable  Optimistic  Leadership    Explorer  \\\n",
       "count  400.000000  400.000000  400.000000  400.000000  400.000000  400.000000   \n",
       "mean     5.022500    2.000100    2.100950    2.108400    3.079475    3.108675   \n",
       "std      2.587224    0.999751    1.095743    1.133804    1.050774    1.144429   \n",
       "min      1.000000   -0.680000   -0.710000   -0.480000    0.300000    0.490000   \n",
       "25%      3.000000    1.317500    1.350000    1.305000    2.430000    2.322500   \n",
       "50%      5.000000    2.010000    2.050000    2.100000    3.090000    3.070000   \n",
       "75%      7.000000    2.690000    2.770000    2.740000    3.712500    3.812500   \n",
       "max      9.000000    4.770000    5.430000    6.500000    6.500000    6.700000   \n",
       "\n",
       "           Family  \n",
       "count  400.000000  \n",
       "mean     2.022475  \n",
       "std      0.993642  \n",
       "min     -0.930000  \n",
       "25%      1.300000  \n",
       "50%      2.015000  \n",
       "75%      2.740000  \n",
       "max      5.030000  "
      ]
     },
     "execution_count": 9,
     "metadata": {},
     "output_type": "execute_result"
    }
   ],
   "source": [
    "data.describe()"
   ]
  },
  {
   "cell_type": "code",
   "execution_count": 10,
   "id": "d90b0258",
   "metadata": {},
   "outputs": [
    {
     "name": "stdout",
     "output_type": "stream",
     "text": [
      "<class 'pandas.core.frame.DataFrame'>\n",
      "RangeIndex: 400 entries, 0 to 399\n",
      "Data columns (total 7 columns):\n",
      " #   Column      Non-Null Count  Dtype  \n",
      "---  ------      --------------  -----  \n",
      " 0   Purchase    400 non-null    int64  \n",
      " 1   Finance     400 non-null    float64\n",
      " 2   Fationable  400 non-null    float64\n",
      " 3   Optimistic  400 non-null    float64\n",
      " 4   Leadership  400 non-null    float64\n",
      " 5   Explorer    400 non-null    float64\n",
      " 6   Family      400 non-null    float64\n",
      "dtypes: float64(6), int64(1)\n",
      "memory usage: 22.0 KB\n"
     ]
    }
   ],
   "source": [
    "data.info()"
   ]
  },
  {
   "cell_type": "code",
   "execution_count": 12,
   "id": "4944fb54",
   "metadata": {},
   "outputs": [
    {
     "data": {
      "text/html": [
       "<div>\n",
       "<style scoped>\n",
       "    .dataframe tbody tr th:only-of-type {\n",
       "        vertical-align: middle;\n",
       "    }\n",
       "\n",
       "    .dataframe tbody tr th {\n",
       "        vertical-align: top;\n",
       "    }\n",
       "\n",
       "    .dataframe thead th {\n",
       "        text-align: right;\n",
       "    }\n",
       "</style>\n",
       "<table border=\"1\" class=\"dataframe\">\n",
       "  <thead>\n",
       "    <tr style=\"text-align: right;\">\n",
       "      <th></th>\n",
       "      <th>Purchase</th>\n",
       "      <th>Finance</th>\n",
       "      <th>Fationable</th>\n",
       "      <th>Optimistic</th>\n",
       "      <th>Leadership</th>\n",
       "      <th>Explorer</th>\n",
       "      <th>Family</th>\n",
       "    </tr>\n",
       "  </thead>\n",
       "  <tbody>\n",
       "    <tr>\n",
       "      <th>0</th>\n",
       "      <td>6</td>\n",
       "      <td>1.65</td>\n",
       "      <td>2.57</td>\n",
       "      <td>0.58</td>\n",
       "      <td>3.19</td>\n",
       "      <td>2.25</td>\n",
       "      <td>1.28</td>\n",
       "    </tr>\n",
       "    <tr>\n",
       "      <th>1</th>\n",
       "      <td>9</td>\n",
       "      <td>1.00</td>\n",
       "      <td>2.45</td>\n",
       "      <td>4.50</td>\n",
       "      <td>4.50</td>\n",
       "      <td>6.50</td>\n",
       "      <td>2.12</td>\n",
       "    </tr>\n",
       "    <tr>\n",
       "      <th>2</th>\n",
       "      <td>8</td>\n",
       "      <td>1.16</td>\n",
       "      <td>4.60</td>\n",
       "      <td>2.92</td>\n",
       "      <td>2.74</td>\n",
       "      <td>4.32</td>\n",
       "      <td>0.89</td>\n",
       "    </tr>\n",
       "    <tr>\n",
       "      <th>3</th>\n",
       "      <td>3</td>\n",
       "      <td>3.19</td>\n",
       "      <td>0.37</td>\n",
       "      <td>1.13</td>\n",
       "      <td>3.50</td>\n",
       "      <td>3.13</td>\n",
       "      <td>3.05</td>\n",
       "    </tr>\n",
       "    <tr>\n",
       "      <th>4</th>\n",
       "      <td>5</td>\n",
       "      <td>1.88</td>\n",
       "      <td>2.45</td>\n",
       "      <td>1.17</td>\n",
       "      <td>4.11</td>\n",
       "      <td>2.95</td>\n",
       "      <td>1.65</td>\n",
       "    </tr>\n",
       "  </tbody>\n",
       "</table>\n",
       "</div>"
      ],
      "text/plain": [
       "   Purchase  Finance  Fationable  Optimistic  Leadership  Explorer  Family\n",
       "0         6     1.65        2.57        0.58        3.19      2.25    1.28\n",
       "1         9     1.00        2.45        4.50        4.50      6.50    2.12\n",
       "2         8     1.16        4.60        2.92        2.74      4.32    0.89\n",
       "3         3     3.19        0.37        1.13        3.50      3.13    3.05\n",
       "4         5     1.88        2.45        1.17        4.11      2.95    1.65"
      ]
     },
     "execution_count": 12,
     "metadata": {},
     "output_type": "execute_result"
    }
   ],
   "source": [
    "data.head()"
   ]
  },
  {
   "cell_type": "code",
   "execution_count": 14,
   "id": "97f82cad",
   "metadata": {},
   "outputs": [
    {
     "data": {
      "text/plain": [
       "['Purchase',\n",
       " 'Finance',\n",
       " 'Fationable',\n",
       " 'Optimistic',\n",
       " 'Leadership',\n",
       " 'Explorer',\n",
       " 'Family']"
      ]
     },
     "execution_count": 14,
     "metadata": {},
     "output_type": "execute_result"
    }
   ],
   "source": [
    "list(data.columns)"
   ]
  },
  {
   "cell_type": "code",
   "execution_count": 18,
   "id": "2b491fa5",
   "metadata": {},
   "outputs": [
    {
     "name": "stdout",
     "output_type": "stream",
     "text": [
      "Collecting statsmodels\n",
      "  Downloading statsmodels-0.13.0-cp38-cp38-manylinux_2_17_x86_64.manylinux2014_x86_64.whl (9.9 MB)\n",
      "\u001b[K     |████████████████████████████████| 9.9 MB 2.0 MB/s eta 0:00:01\n",
      "\u001b[?25hCollecting patsy>=0.5.2\n",
      "  Downloading patsy-0.5.2-py2.py3-none-any.whl (233 kB)\n",
      "\u001b[K     |████████████████████████████████| 233 kB 2.6 MB/s eta 0:00:01\n",
      "\u001b[?25hRequirement already satisfied: pandas>=0.25 in ./.local/lib/python3.8/site-packages (from statsmodels) (1.3.3)\n",
      "Requirement already satisfied: scipy>=1.3 in ./.local/lib/python3.8/site-packages (from statsmodels) (1.7.1)\n",
      "Requirement already satisfied: numpy>=1.17 in ./.local/lib/python3.8/site-packages (from statsmodels) (1.21.2)\n",
      "Requirement already satisfied: six in ./.local/lib/python3.8/site-packages (from patsy>=0.5.2->statsmodels) (1.15.0)\n",
      "Requirement already satisfied: python-dateutil>=2.7.3 in ./.local/lib/python3.8/site-packages (from pandas>=0.25->statsmodels) (2.8.2)\n",
      "Requirement already satisfied: pytz>=2017.3 in /usr/lib/python3/dist-packages (from pandas>=0.25->statsmodels) (2019.3)\n",
      "Installing collected packages: patsy, statsmodels\n",
      "Successfully installed patsy-0.5.2 statsmodels-0.13.0\n"
     ]
    }
   ],
   "source": [
    "!pip install statsmodels"
   ]
  },
  {
   "cell_type": "code",
   "execution_count": 23,
   "id": "25ca96cd",
   "metadata": {},
   "outputs": [
    {
     "data": {
      "text/html": [
       "<table class=\"simpletable\">\n",
       "<caption>OLS Regression Results</caption>\n",
       "<tr>\n",
       "  <th>Dep. Variable:</th>        <td>Purchase</td>     <th>  R-squared:         </th> <td>   0.002</td>\n",
       "</tr>\n",
       "<tr>\n",
       "  <th>Model:</th>                   <td>OLS</td>       <th>  Adj. R-squared:    </th> <td>  -0.001</td>\n",
       "</tr>\n",
       "<tr>\n",
       "  <th>Method:</th>             <td>Least Squares</td>  <th>  F-statistic:       </th> <td>  0.6850</td>\n",
       "</tr>\n",
       "<tr>\n",
       "  <th>Date:</th>             <td>Thu, 21 Oct 2021</td> <th>  Prob (F-statistic):</th>  <td> 0.408</td> \n",
       "</tr>\n",
       "<tr>\n",
       "  <th>Time:</th>                 <td>16:02:16</td>     <th>  Log-Likelihood:    </th> <td> -946.97</td>\n",
       "</tr>\n",
       "<tr>\n",
       "  <th>No. Observations:</th>      <td>   400</td>      <th>  AIC:               </th> <td>   1898.</td>\n",
       "</tr>\n",
       "<tr>\n",
       "  <th>Df Residuals:</th>          <td>   398</td>      <th>  BIC:               </th> <td>   1906.</td>\n",
       "</tr>\n",
       "<tr>\n",
       "  <th>Df Model:</th>              <td>     1</td>      <th>                     </th>     <td> </td>   \n",
       "</tr>\n",
       "<tr>\n",
       "  <th>Covariance Type:</th>      <td>nonrobust</td>    <th>                     </th>     <td> </td>   \n",
       "</tr>\n",
       "</table>\n",
       "<table class=\"simpletable\">\n",
       "<tr>\n",
       "     <td></td>        <th>coef</th>     <th>std err</th>      <th>t</th>      <th>P>|t|</th>  <th>[0.025</th>    <th>0.975]</th>  \n",
       "</tr>\n",
       "<tr>\n",
       "  <th>const</th>   <td>    4.8080</td> <td>    0.290</td> <td>   16.594</td> <td> 0.000</td> <td>    4.238</td> <td>    5.378</td>\n",
       "</tr>\n",
       "<tr>\n",
       "  <th>Finance</th> <td>    0.1073</td> <td>    0.130</td> <td>    0.828</td> <td> 0.408</td> <td>   -0.148</td> <td>    0.362</td>\n",
       "</tr>\n",
       "</table>\n",
       "<table class=\"simpletable\">\n",
       "<tr>\n",
       "  <th>Omnibus:</th>       <td>258.866</td> <th>  Durbin-Watson:     </th> <td>   1.929</td>\n",
       "</tr>\n",
       "<tr>\n",
       "  <th>Prob(Omnibus):</th> <td> 0.000</td>  <th>  Jarque-Bera (JB):  </th> <td>  24.554</td>\n",
       "</tr>\n",
       "<tr>\n",
       "  <th>Skew:</th>          <td> 0.028</td>  <th>  Prob(JB):          </th> <td>4.66e-06</td>\n",
       "</tr>\n",
       "<tr>\n",
       "  <th>Kurtosis:</th>      <td> 1.787</td>  <th>  Cond. No.          </th> <td>    5.84</td>\n",
       "</tr>\n",
       "</table><br/><br/>Notes:<br/>[1] Standard Errors assume that the covariance matrix of the errors is correctly specified."
      ],
      "text/plain": [
       "<class 'statsmodels.iolib.summary.Summary'>\n",
       "\"\"\"\n",
       "                            OLS Regression Results                            \n",
       "==============================================================================\n",
       "Dep. Variable:               Purchase   R-squared:                       0.002\n",
       "Model:                            OLS   Adj. R-squared:                 -0.001\n",
       "Method:                 Least Squares   F-statistic:                    0.6850\n",
       "Date:                Thu, 21 Oct 2021   Prob (F-statistic):              0.408\n",
       "Time:                        16:02:16   Log-Likelihood:                -946.97\n",
       "No. Observations:                 400   AIC:                             1898.\n",
       "Df Residuals:                     398   BIC:                             1906.\n",
       "Df Model:                           1                                         \n",
       "Covariance Type:            nonrobust                                         \n",
       "==============================================================================\n",
       "                 coef    std err          t      P>|t|      [0.025      0.975]\n",
       "------------------------------------------------------------------------------\n",
       "const          4.8080      0.290     16.594      0.000       4.238       5.378\n",
       "Finance        0.1073      0.130      0.828      0.408      -0.148       0.362\n",
       "==============================================================================\n",
       "Omnibus:                      258.866   Durbin-Watson:                   1.929\n",
       "Prob(Omnibus):                  0.000   Jarque-Bera (JB):               24.554\n",
       "Skew:                           0.028   Prob(JB):                     4.66e-06\n",
       "Kurtosis:                       1.787   Cond. No.                         5.84\n",
       "==============================================================================\n",
       "\n",
       "Notes:\n",
       "[1] Standard Errors assume that the covariance matrix of the errors is correctly specified.\n",
       "\"\"\""
      ]
     },
     "execution_count": 23,
     "metadata": {},
     "output_type": "execute_result"
    }
   ],
   "source": [
    "import statsmodels.api as sm\n",
    "x = data['Finance']\n",
    "y = data['Purchase']\n",
    "x = sm.add_constant(x)\n",
    "model = sm.OLS(y, x).fit()\n",
    "predictions = model.predict(x)\n",
    "model.summary()"
   ]
  },
  {
   "cell_type": "markdown",
   "id": "ccb65bea",
   "metadata": {},
   "source": [
    "## Model #2"
   ]
  },
  {
   "cell_type": "code",
   "execution_count": 24,
   "id": "8f4a8bbc",
   "metadata": {},
   "outputs": [
    {
     "data": {
      "text/html": [
       "<table class=\"simpletable\">\n",
       "<caption>OLS Regression Results</caption>\n",
       "<tr>\n",
       "  <th>Dep. Variable:</th>        <td>Purchase</td>     <th>  R-squared:         </th> <td>   0.180</td>\n",
       "</tr>\n",
       "<tr>\n",
       "  <th>Model:</th>                   <td>OLS</td>       <th>  Adj. R-squared:    </th> <td>   0.175</td>\n",
       "</tr>\n",
       "<tr>\n",
       "  <th>Method:</th>             <td>Least Squares</td>  <th>  F-statistic:       </th> <td>   43.44</td>\n",
       "</tr>\n",
       "<tr>\n",
       "  <th>Date:</th>             <td>Thu, 21 Oct 2021</td> <th>  Prob (F-statistic):</th> <td>8.67e-18</td>\n",
       "</tr>\n",
       "<tr>\n",
       "  <th>Time:</th>                 <td>16:02:46</td>     <th>  Log-Likelihood:    </th> <td> -907.73</td>\n",
       "</tr>\n",
       "<tr>\n",
       "  <th>No. Observations:</th>      <td>   400</td>      <th>  AIC:               </th> <td>   1821.</td>\n",
       "</tr>\n",
       "<tr>\n",
       "  <th>Df Residuals:</th>          <td>   397</td>      <th>  BIC:               </th> <td>   1833.</td>\n",
       "</tr>\n",
       "<tr>\n",
       "  <th>Df Model:</th>              <td>     2</td>      <th>                     </th>     <td> </td>   \n",
       "</tr>\n",
       "<tr>\n",
       "  <th>Covariance Type:</th>      <td>nonrobust</td>    <th>                     </th>     <td> </td>   \n",
       "</tr>\n",
       "</table>\n",
       "<table class=\"simpletable\">\n",
       "<tr>\n",
       "       <td></td>         <th>coef</th>     <th>std err</th>      <th>t</th>      <th>P>|t|</th>  <th>[0.025</th>    <th>0.975]</th>  \n",
       "</tr>\n",
       "<tr>\n",
       "  <th>const</th>      <td>    2.7240</td> <td>    0.346</td> <td>    7.876</td> <td> 0.000</td> <td>    2.044</td> <td>    3.404</td>\n",
       "</tr>\n",
       "<tr>\n",
       "  <th>Finance</th>    <td>    0.1032</td> <td>    0.118</td> <td>    0.878</td> <td> 0.381</td> <td>   -0.128</td> <td>    0.335</td>\n",
       "</tr>\n",
       "<tr>\n",
       "  <th>Fationable</th> <td>    0.9958</td> <td>    0.107</td> <td>    9.277</td> <td> 0.000</td> <td>    0.785</td> <td>    1.207</td>\n",
       "</tr>\n",
       "</table>\n",
       "<table class=\"simpletable\">\n",
       "<tr>\n",
       "  <th>Omnibus:</th>       <td>42.124</td> <th>  Durbin-Watson:     </th> <td>   1.959</td>\n",
       "</tr>\n",
       "<tr>\n",
       "  <th>Prob(Omnibus):</th> <td> 0.000</td> <th>  Jarque-Bera (JB):  </th> <td>  12.690</td>\n",
       "</tr>\n",
       "<tr>\n",
       "  <th>Skew:</th>          <td> 0.031</td> <th>  Prob(JB):          </th> <td> 0.00176</td>\n",
       "</tr>\n",
       "<tr>\n",
       "  <th>Kurtosis:</th>      <td> 2.130</td> <th>  Cond. No.          </th> <td>    9.94</td>\n",
       "</tr>\n",
       "</table><br/><br/>Notes:<br/>[1] Standard Errors assume that the covariance matrix of the errors is correctly specified."
      ],
      "text/plain": [
       "<class 'statsmodels.iolib.summary.Summary'>\n",
       "\"\"\"\n",
       "                            OLS Regression Results                            \n",
       "==============================================================================\n",
       "Dep. Variable:               Purchase   R-squared:                       0.180\n",
       "Model:                            OLS   Adj. R-squared:                  0.175\n",
       "Method:                 Least Squares   F-statistic:                     43.44\n",
       "Date:                Thu, 21 Oct 2021   Prob (F-statistic):           8.67e-18\n",
       "Time:                        16:02:46   Log-Likelihood:                -907.73\n",
       "No. Observations:                 400   AIC:                             1821.\n",
       "Df Residuals:                     397   BIC:                             1833.\n",
       "Df Model:                           2                                         \n",
       "Covariance Type:            nonrobust                                         \n",
       "==============================================================================\n",
       "                 coef    std err          t      P>|t|      [0.025      0.975]\n",
       "------------------------------------------------------------------------------\n",
       "const          2.7240      0.346      7.876      0.000       2.044       3.404\n",
       "Finance        0.1032      0.118      0.878      0.381      -0.128       0.335\n",
       "Fationable     0.9958      0.107      9.277      0.000       0.785       1.207\n",
       "==============================================================================\n",
       "Omnibus:                       42.124   Durbin-Watson:                   1.959\n",
       "Prob(Omnibus):                  0.000   Jarque-Bera (JB):               12.690\n",
       "Skew:                           0.031   Prob(JB):                      0.00176\n",
       "Kurtosis:                       2.130   Cond. No.                         9.94\n",
       "==============================================================================\n",
       "\n",
       "Notes:\n",
       "[1] Standard Errors assume that the covariance matrix of the errors is correctly specified.\n",
       "\"\"\""
      ]
     },
     "execution_count": 24,
     "metadata": {},
     "output_type": "execute_result"
    }
   ],
   "source": [
    "import statsmodels.api as sm\n",
    "x = data[['Finance','Fationable']]\n",
    "y = data['Purchase']\n",
    "x = sm.add_constant(x)\n",
    "model = sm.OLS(y, x).fit()\n",
    "predictions = model.predict(x)\n",
    "model.summary()"
   ]
  },
  {
   "cell_type": "markdown",
   "id": "2cbfcbc0",
   "metadata": {},
   "source": [
    "## Model #3"
   ]
  },
  {
   "cell_type": "code",
   "execution_count": 29,
   "id": "56416ef8",
   "metadata": {},
   "outputs": [
    {
     "data": {
      "text/html": [
       "<table class=\"simpletable\">\n",
       "<caption>OLS Regression Results</caption>\n",
       "<tr>\n",
       "  <th>Dep. Variable:</th>        <td>Purchase</td>     <th>  R-squared:         </th> <td>   0.288</td>\n",
       "</tr>\n",
       "<tr>\n",
       "  <th>Model:</th>                   <td>OLS</td>       <th>  Adj. R-squared:    </th> <td>   0.282</td>\n",
       "</tr>\n",
       "<tr>\n",
       "  <th>Method:</th>             <td>Least Squares</td>  <th>  F-statistic:       </th> <td>   53.29</td>\n",
       "</tr>\n",
       "<tr>\n",
       "  <th>Date:</th>             <td>Thu, 21 Oct 2021</td> <th>  Prob (F-statistic):</th> <td>5.90e-29</td>\n",
       "</tr>\n",
       "<tr>\n",
       "  <th>Time:</th>                 <td>16:07:01</td>     <th>  Log-Likelihood:    </th> <td> -879.48</td>\n",
       "</tr>\n",
       "<tr>\n",
       "  <th>No. Observations:</th>      <td>   400</td>      <th>  AIC:               </th> <td>   1767.</td>\n",
       "</tr>\n",
       "<tr>\n",
       "  <th>Df Residuals:</th>          <td>   396</td>      <th>  BIC:               </th> <td>   1783.</td>\n",
       "</tr>\n",
       "<tr>\n",
       "  <th>Df Model:</th>              <td>     3</td>      <th>                     </th>     <td> </td>   \n",
       "</tr>\n",
       "<tr>\n",
       "  <th>Covariance Type:</th>      <td>nonrobust</td>    <th>                     </th>     <td> </td>   \n",
       "</tr>\n",
       "</table>\n",
       "<table class=\"simpletable\">\n",
       "<tr>\n",
       "       <td></td>         <th>coef</th>     <th>std err</th>      <th>t</th>      <th>P>|t|</th>  <th>[0.025</th>    <th>0.975]</th>  \n",
       "</tr>\n",
       "<tr>\n",
       "  <th>const</th>      <td>    1.4856</td> <td>    0.360</td> <td>    4.126</td> <td> 0.000</td> <td>    0.778</td> <td>    2.194</td>\n",
       "</tr>\n",
       "<tr>\n",
       "  <th>Finance</th>    <td>    0.0931</td> <td>    0.110</td> <td>    0.848</td> <td> 0.397</td> <td>   -0.123</td> <td>    0.309</td>\n",
       "</tr>\n",
       "<tr>\n",
       "  <th>Fationable</th> <td>    0.8238</td> <td>    0.103</td> <td>    8.031</td> <td> 0.000</td> <td>    0.622</td> <td>    1.025</td>\n",
       "</tr>\n",
       "<tr>\n",
       "  <th>Optimistic</th> <td>    0.7683</td> <td>    0.099</td> <td>    7.750</td> <td> 0.000</td> <td>    0.573</td> <td>    0.963</td>\n",
       "</tr>\n",
       "</table>\n",
       "<table class=\"simpletable\">\n",
       "<tr>\n",
       "  <th>Omnibus:</th>       <td>12.004</td> <th>  Durbin-Watson:     </th> <td>   1.956</td>\n",
       "</tr>\n",
       "<tr>\n",
       "  <th>Prob(Omnibus):</th> <td> 0.002</td> <th>  Jarque-Bera (JB):  </th> <td>   6.133</td>\n",
       "</tr>\n",
       "<tr>\n",
       "  <th>Skew:</th>          <td> 0.013</td> <th>  Prob(JB):          </th> <td>  0.0466</td>\n",
       "</tr>\n",
       "<tr>\n",
       "  <th>Kurtosis:</th>      <td> 2.394</td> <th>  Cond. No.          </th> <td>    13.2</td>\n",
       "</tr>\n",
       "</table><br/><br/>Notes:<br/>[1] Standard Errors assume that the covariance matrix of the errors is correctly specified."
      ],
      "text/plain": [
       "<class 'statsmodels.iolib.summary.Summary'>\n",
       "\"\"\"\n",
       "                            OLS Regression Results                            \n",
       "==============================================================================\n",
       "Dep. Variable:               Purchase   R-squared:                       0.288\n",
       "Model:                            OLS   Adj. R-squared:                  0.282\n",
       "Method:                 Least Squares   F-statistic:                     53.29\n",
       "Date:                Thu, 21 Oct 2021   Prob (F-statistic):           5.90e-29\n",
       "Time:                        16:07:01   Log-Likelihood:                -879.48\n",
       "No. Observations:                 400   AIC:                             1767.\n",
       "Df Residuals:                     396   BIC:                             1783.\n",
       "Df Model:                           3                                         \n",
       "Covariance Type:            nonrobust                                         \n",
       "==============================================================================\n",
       "                 coef    std err          t      P>|t|      [0.025      0.975]\n",
       "------------------------------------------------------------------------------\n",
       "const          1.4856      0.360      4.126      0.000       0.778       2.194\n",
       "Finance        0.0931      0.110      0.848      0.397      -0.123       0.309\n",
       "Fationable     0.8238      0.103      8.031      0.000       0.622       1.025\n",
       "Optimistic     0.7683      0.099      7.750      0.000       0.573       0.963\n",
       "==============================================================================\n",
       "Omnibus:                       12.004   Durbin-Watson:                   1.956\n",
       "Prob(Omnibus):                  0.002   Jarque-Bera (JB):                6.133\n",
       "Skew:                           0.013   Prob(JB):                       0.0466\n",
       "Kurtosis:                       2.394   Cond. No.                         13.2\n",
       "==============================================================================\n",
       "\n",
       "Notes:\n",
       "[1] Standard Errors assume that the covariance matrix of the errors is correctly specified.\n",
       "\"\"\""
      ]
     },
     "execution_count": 29,
     "metadata": {},
     "output_type": "execute_result"
    }
   ],
   "source": [
    "import statsmodels.api as sm\n",
    "x = data[['Finance','Fationable','Optimistic']]\n",
    "y = data['Purchase']\n",
    "x = sm.add_constant(x)\n",
    "model = sm.OLS(y, x).fit()\n",
    "predictions = model.predict(x)\n",
    "model.summary()"
   ]
  },
  {
   "cell_type": "markdown",
   "id": "42e5b94c",
   "metadata": {},
   "source": [
    "## Full Model"
   ]
  },
  {
   "cell_type": "code",
   "execution_count": 35,
   "id": "294622b0",
   "metadata": {},
   "outputs": [
    {
     "data": {
      "text/html": [
       "<table class=\"simpletable\">\n",
       "<caption>OLS Regression Results</caption>\n",
       "<tr>\n",
       "  <th>Dep. Variable:</th>        <td>Purchase</td>     <th>  R-squared:         </th> <td>   0.518</td>\n",
       "</tr>\n",
       "<tr>\n",
       "  <th>Model:</th>                   <td>OLS</td>       <th>  Adj. R-squared:    </th> <td>   0.512</td>\n",
       "</tr>\n",
       "<tr>\n",
       "  <th>Method:</th>             <td>Least Squares</td>  <th>  F-statistic:       </th> <td>   84.81</td>\n",
       "</tr>\n",
       "<tr>\n",
       "  <th>Date:</th>             <td>Thu, 21 Oct 2021</td> <th>  Prob (F-statistic):</th> <td>2.47e-60</td>\n",
       "</tr>\n",
       "<tr>\n",
       "  <th>Time:</th>                 <td>16:15:22</td>     <th>  Log-Likelihood:    </th> <td> -801.20</td>\n",
       "</tr>\n",
       "<tr>\n",
       "  <th>No. Observations:</th>      <td>   400</td>      <th>  AIC:               </th> <td>   1614.</td>\n",
       "</tr>\n",
       "<tr>\n",
       "  <th>Df Residuals:</th>          <td>   394</td>      <th>  BIC:               </th> <td>   1638.</td>\n",
       "</tr>\n",
       "<tr>\n",
       "  <th>Df Model:</th>              <td>     5</td>      <th>                     </th>     <td> </td>   \n",
       "</tr>\n",
       "<tr>\n",
       "  <th>Covariance Type:</th>      <td>nonrobust</td>    <th>                     </th>     <td> </td>   \n",
       "</tr>\n",
       "</table>\n",
       "<table class=\"simpletable\">\n",
       "<tr>\n",
       "       <td></td>         <th>coef</th>     <th>std err</th>      <th>t</th>      <th>P>|t|</th>  <th>[0.025</th>    <th>0.975]</th>  \n",
       "</tr>\n",
       "<tr>\n",
       "  <th>const</th>      <td>   -1.8843</td> <td>    0.406</td> <td>   -4.637</td> <td> 0.000</td> <td>   -2.683</td> <td>   -1.085</td>\n",
       "</tr>\n",
       "<tr>\n",
       "  <th>Fationable</th> <td>    0.6657</td> <td>    0.085</td> <td>    7.787</td> <td> 0.000</td> <td>    0.498</td> <td>    0.834</td>\n",
       "</tr>\n",
       "<tr>\n",
       "  <th>Optimistic</th> <td>    0.4723</td> <td>    0.085</td> <td>    5.569</td> <td> 0.000</td> <td>    0.306</td> <td>    0.639</td>\n",
       "</tr>\n",
       "<tr>\n",
       "  <th>Leadership</th> <td>    0.2742</td> <td>    0.089</td> <td>    3.073</td> <td> 0.002</td> <td>    0.099</td> <td>    0.450</td>\n",
       "</tr>\n",
       "<tr>\n",
       "  <th>Explorer</th>   <td>    1.0486</td> <td>    0.084</td> <td>   12.450</td> <td> 0.000</td> <td>    0.883</td> <td>    1.214</td>\n",
       "</tr>\n",
       "<tr>\n",
       "  <th>Family</th>     <td>    0.2018</td> <td>    0.091</td> <td>    2.213</td> <td> 0.027</td> <td>    0.023</td> <td>    0.381</td>\n",
       "</tr>\n",
       "</table>\n",
       "<table class=\"simpletable\">\n",
       "<tr>\n",
       "  <th>Omnibus:</th>       <td>18.133</td> <th>  Durbin-Watson:     </th> <td>   2.055</td>\n",
       "</tr>\n",
       "<tr>\n",
       "  <th>Prob(Omnibus):</th> <td> 0.000</td> <th>  Jarque-Bera (JB):  </th> <td>   7.978</td>\n",
       "</tr>\n",
       "<tr>\n",
       "  <th>Skew:</th>          <td> 0.031</td> <th>  Prob(JB):          </th> <td>  0.0185</td>\n",
       "</tr>\n",
       "<tr>\n",
       "  <th>Kurtosis:</th>      <td> 2.311</td> <th>  Cond. No.          </th> <td>    27.0</td>\n",
       "</tr>\n",
       "</table><br/><br/>Notes:<br/>[1] Standard Errors assume that the covariance matrix of the errors is correctly specified."
      ],
      "text/plain": [
       "<class 'statsmodels.iolib.summary.Summary'>\n",
       "\"\"\"\n",
       "                            OLS Regression Results                            \n",
       "==============================================================================\n",
       "Dep. Variable:               Purchase   R-squared:                       0.518\n",
       "Model:                            OLS   Adj. R-squared:                  0.512\n",
       "Method:                 Least Squares   F-statistic:                     84.81\n",
       "Date:                Thu, 21 Oct 2021   Prob (F-statistic):           2.47e-60\n",
       "Time:                        16:15:22   Log-Likelihood:                -801.20\n",
       "No. Observations:                 400   AIC:                             1614.\n",
       "Df Residuals:                     394   BIC:                             1638.\n",
       "Df Model:                           5                                         \n",
       "Covariance Type:            nonrobust                                         \n",
       "==============================================================================\n",
       "                 coef    std err          t      P>|t|      [0.025      0.975]\n",
       "------------------------------------------------------------------------------\n",
       "const         -1.8843      0.406     -4.637      0.000      -2.683      -1.085\n",
       "Fationable     0.6657      0.085      7.787      0.000       0.498       0.834\n",
       "Optimistic     0.4723      0.085      5.569      0.000       0.306       0.639\n",
       "Leadership     0.2742      0.089      3.073      0.002       0.099       0.450\n",
       "Explorer       1.0486      0.084     12.450      0.000       0.883       1.214\n",
       "Family         0.2018      0.091      2.213      0.027       0.023       0.381\n",
       "==============================================================================\n",
       "Omnibus:                       18.133   Durbin-Watson:                   2.055\n",
       "Prob(Omnibus):                  0.000   Jarque-Bera (JB):                7.978\n",
       "Skew:                           0.031   Prob(JB):                       0.0185\n",
       "Kurtosis:                       2.311   Cond. No.                         27.0\n",
       "==============================================================================\n",
       "\n",
       "Notes:\n",
       "[1] Standard Errors assume that the covariance matrix of the errors is correctly specified.\n",
       "\"\"\""
      ]
     },
     "execution_count": 35,
     "metadata": {},
     "output_type": "execute_result"
    }
   ],
   "source": [
    "import statsmodels.api as sm\n",
    "x = data[['Fationable',\n",
    " 'Optimistic',\n",
    " 'Leadership',\n",
    " 'Explorer',\n",
    " 'Family']]\n",
    "y = data['Purchase']\n",
    "x = sm.add_constant(x)\n",
    "model = sm.OLS(y, x).fit()\n",
    "predictions = model.predict(x)\n",
    "model.summary()"
   ]
  },
  {
   "cell_type": "markdown",
   "id": "1ca687b1",
   "metadata": {},
   "source": [
    "# Regression Diagnostics"
   ]
  },
  {
   "cell_type": "code",
   "execution_count": 38,
   "id": "deef4c04",
   "metadata": {},
   "outputs": [],
   "source": [
    "from statsmodels.compat import lzip\n",
    "import statsmodels.formula.api as smf\n",
    "import statsmodels.stats.api as sms"
   ]
  },
  {
   "cell_type": "markdown",
   "id": "29d6e908",
   "metadata": {},
   "source": [
    "## Normality of the residuals"
   ]
  },
  {
   "cell_type": "code",
   "execution_count": 41,
   "id": "e918de7a",
   "metadata": {},
   "outputs": [
    {
     "data": {
      "text/plain": [
       "[('Jarque-Bera', 7.9779873623529065),\n",
       " ('Chi^2 two tail prob.', 0.018518340100633964),\n",
       " ('Skew', 0.030914617120738855),\n",
       " ('Kurtosis', 2.3109017577048343)]"
      ]
     },
     "execution_count": 41,
     "metadata": {},
     "output_type": "execute_result"
    }
   ],
   "source": [
    "name = [\"Jarque-Bera\", \"Chi^2 two tail prob.\", \"Skew\", \"Kurtosis\"]\n",
    "test = sms.jarque_bera(model.resid)\n",
    "lzip(name,test)"
   ]
  },
  {
   "cell_type": "code",
   "execution_count": 42,
   "id": "4e8f2350",
   "metadata": {},
   "outputs": [
    {
     "data": {
      "text/plain": [
       "[<matplotlib.lines.Line2D at 0x7f51fbd87d90>]"
      ]
     },
     "execution_count": 42,
     "metadata": {},
     "output_type": "execute_result"
    },
    {
     "data": {
      "image/png": "[encoded data removed]",
      "text/plain": [
       "<Figure size 432x288 with 1 Axes>"
      ]
     },
     "metadata": {
      "needs_background": "light"
     },
     "output_type": "display_data"
    }
   ],
   "source": [
    "plt.plot(model.resid)"
   ]
  },
  {
   "cell_type": "code",
   "execution_count": 44,
   "id": "dfff7f52",
   "metadata": {},
   "outputs": [
    {
     "data": {
      "text/plain": [
       "[('Chi^2', 18.132503021812177), ('Two-tail prob', 0.00011549867373224167)]"
      ]
     },
     "execution_count": 44,
     "metadata": {},
     "output_type": "execute_result"
    }
   ],
   "source": [
    "name = [\"Chi^2\", \"Two-tail prob\"]\n",
    "test = sms.omni_normtest(model.resid)\n",
    "lzip(name, test)"
   ]
  },
  {
   "cell_type": "markdown",
   "id": "93472b2a",
   "metadata": {},
   "source": [
    "### Checking and plotting outliers"
   ]
  },
  {
   "cell_type": "code",
   "execution_count": 45,
   "id": "1bddb4e1",
   "metadata": {},
   "outputs": [
    {
     "data": {
      "text/plain": [
       "array([[ 6.23776981e-02,  5.02755902e-02, -9.19712808e-02,\n",
       "         2.72923483e-02, -3.70948626e-02, -5.22185777e-02],\n",
       "       [ 8.14521836e-02,  1.92880893e-02, -5.16646715e-02,\n",
       "        -2.21951565e-02, -9.16253068e-02, -3.87834724e-03],\n",
       "       [ 1.40590638e-04, -1.07224486e-03, -6.31323316e-05,\n",
       "         3.74074707e-04, -3.84801611e-04,  5.33972520e-04],\n",
       "       [-2.81682774e-03,  3.12757108e-02,  1.40603127e-02,\n",
       "        -1.22571887e-02, -7.05441364e-03, -1.99484242e-02],\n",
       "       [ 1.09463863e-04,  1.70636073e-03, -4.20514926e-03,\n",
       "         4.64652288e-03, -6.93432119e-04, -1.75311045e-03]])"
      ]
     },
     "execution_count": 45,
     "metadata": {},
     "output_type": "execute_result"
    }
   ],
   "source": [
    "from statsmodels.stats.outliers_influence import OLSInfluence\n",
    "test_class = OLSInfluence(model)\n",
    "test_class.dfbetas[:5, :]"
   ]
  },
  {
   "cell_type": "code",
   "execution_count": 46,
   "id": "1bce6b12",
   "metadata": {},
   "outputs": [
    {
     "data": {
      "image/png": "[encoded data removed]",
      "text/plain": [
       "<Figure size 576x432 with 1 Axes>"
      ]
     },
     "metadata": {
      "needs_background": "light"
     },
     "output_type": "display_data"
    }
   ],
   "source": [
    "from statsmodels.graphics.regressionplots import plot_leverage_resid2\n",
    "fig, ax = plt.subplots(figsize=(8,6))\n",
    "fig = plot_leverage_resid2(model,ax=ax)"
   ]
  },
  {
   "cell_type": "markdown",
   "id": "bf2876c1",
   "metadata": {},
   "source": [
    "## Multicollinearity"
   ]
  },
  {
   "cell_type": "code",
   "execution_count": null,
   "id": "b08ed0da",
   "metadata": {},
   "outputs": [],
   "source": []
  }
 ],
 "metadata": {
  "kernelspec": {
   "display_name": "Python 3 (ipykernel)",
   "language": "python",
   "name": "python3"
  },
  "language_info": {
   "codemirror_mode": {
    "name": "ipython",
    "version": 3
   },
   "file_extension": ".py",
   "mimetype": "text/x-python",
   "name": "python",
   "nbconvert_exporter": "python",
   "pygments_lexer": "ipython3",
   "version": "3.8.10"
  }
 },
 "nbformat": 4,
 "nbformat_minor": 5
}
